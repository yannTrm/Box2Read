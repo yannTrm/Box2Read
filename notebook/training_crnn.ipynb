{
 "cells": [
  {
   "cell_type": "markdown",
   "metadata": {},
   "source": [
    "# Training file (testing if training works)"
   ]
  },
  {
   "cell_type": "code",
   "execution_count": null,
   "metadata": {},
   "outputs": [],
   "source": [
    "import sys\n",
    "sys.path.append('../')"
   ]
  },
  {
   "cell_type": "code",
   "execution_count": null,
   "metadata": {},
   "outputs": [],
   "source": [
    "import torch\n",
    "from torch.utils.data import DataLoader\n",
    "from torchvision import transforms\n",
    "from torch.nn import CTCLoss\n",
    "import torch.optim as optim\n",
    "\n",
    "from src.training.trainer import train_model\n",
    "from src.dataset.custom_dataset import OdometerDataset, MJSynthDataset\n",
    "from src.dataset.base_dataset import base_collate_fn\n",
    "from src.models.crnn import CRNN"
   ]
  },
  {
   "cell_type": "code",
   "execution_count": null,
   "metadata": {},
   "outputs": [],
   "source": [
    "device = torch.device('cuda:0' if torch.cuda.is_available() else 'cpu')\n",
    "device"
   ]
  },
  {
   "cell_type": "code",
   "execution_count": null,
   "metadata": {},
   "outputs": [],
   "source": [
    "\n",
    "data_dir = '/home/yannou/OneDrive/Documents/3_PRO/carviz/data/ocr/odometer_reader/milestone_box'\n",
    "labels_file = '/home/yannou/OneDrive/Documents/3_PRO/carviz/data/ocr/odometer_reader/milestone_box/milestone_labels.json'\n",
    "#data_dir = '/home/yannou/OneDrive/Documents/3_PRO/carviz/data/ocr/MJSynth_text_recognition'\n",
    "\n",
    "\n",
    "# Définir les transformations\n",
    "transform = transforms.Compose([\n",
    "    transforms.RandomRotation(7),\n",
    "    transforms.ColorJitter(brightness=0.2, contrast=0.2, saturation=0.2, hue=0.2),\n",
    "    transforms.Grayscale(num_output_channels=1),\n",
    "    transforms.ToTensor(),\n",
    "    transforms.Normalize(mean=[0.5], std=[0.5])\n",
    "])\n",
    "\n",
    "transform_val = transforms.Compose([\n",
    "    transforms.Grayscale(num_output_channels=1),\n",
    "    transforms.ToTensor(),\n",
    "    transforms.Normalize(mean=[0.5], std=[0.5])\n",
    "])\n",
    "\n",
    "# Initialiser le dataset\n",
    "dataset = OdometerDataset(root_dir=data_dir, split=\"train\", labels_file=labels_file, img_height=32, img_width=100, transform=transform)\n",
    "dataset_val = OdometerDataset(root_dir=data_dir, split=\"val\", labels_file=labels_file, img_height=32, img_width=100, transform=transform_val)\n",
    "\n",
    "#dataset = MJSynthDataset(root_dir=data_dir, split=\"train\",  img_height=32, img_width=100, transform=transform)\n",
    "#dataset_val = MJSynthDataset(root_dir=data_dir, split=\"val\",  img_height=32, img_width=100, transform=transform_val)\n",
    "\n",
    "\n",
    "# Créer les DataLoaders\n",
    "train_loader = DataLoader(dataset, batch_size=256, shuffle=True, collate_fn=base_collate_fn)\n",
    "valid_loader = DataLoader(dataset_val, batch_size=256, shuffle=False, collate_fn=base_collate_fn)\n",
    "\n"
   ]
  },
  {
   "cell_type": "code",
   "execution_count": null,
   "metadata": {},
   "outputs": [],
   "source": [
    "# Initialiser le modèle\n",
    "num_class = len(dataset.LABEL2CHAR) + 1\n",
    "crnn = CRNN(img_channel=1, img_height=32, img_width=100, num_class=num_class, model_size=\"n\", leaky_relu=True).to(device)\n",
    "\n",
    "# Définir les paramètres d'entraînement\n",
    "lr = 0.001\n",
    "epochs = 2\n",
    "decode_method = 'beam_search'\n",
    "beam_size = 10\n",
    "label2char = OdometerDataset.LABEL2CHAR"
   ]
  },
  {
   "cell_type": "code",
   "execution_count": null,
   "metadata": {},
   "outputs": [],
   "source": [
    "num_class"
   ]
  },
  {
   "cell_type": "code",
   "execution_count": null,
   "metadata": {},
   "outputs": [
    {
     "name": "stderr",
     "output_type": "stream",
     "text": [
      "\u001b[34m\u001b[1mwandb\u001b[0m: \u001b[33mWARNING\u001b[0m Fatal error while uploading data. Some run data will not be synced, but it will still be written to disk. Use `wandb sync` at the end of the run to try uploading.\n"
     ]
    }
   ],
   "source": [
    "print(f\"Working on {device}\")\n",
    "# Appeler la fonction train_model\n",
    "trained_model = train_model(\n",
    "    model=crnn,\n",
    "    train_loader=train_loader,\n",
    "    valid_loader=valid_loader,\n",
    "    label2char=label2char,\n",
    "    device=device,\n",
    "    lr=lr,\n",
    "    epochs=epochs,\n",
    "    decode_method=decode_method,\n",
    "    beam_size=beam_size,\n",
    "    criterion=CTCLoss(reduction='sum', zero_infinity=True).to(device),\n",
    "    optimizer=optim.Adam(crnn.parameters(), lr=lr),\n",
    "    project_name=\"odometer-reader\",\n",
    "    run_name=\"crnn-n\", \n",
    "    checkpoint=10\n",
    ")\n",
    "\n"
   ]
  },
  {
   "cell_type": "code",
   "execution_count": null,
   "metadata": {},
   "outputs": [],
   "source": []
  }
 ],
 "metadata": {
  "kernelspec": {
   "display_name": "env-ocr",
   "language": "python",
   "name": "python3"
  },
  "language_info": {
   "codemirror_mode": {
    "name": "ipython",
    "version": 3
   },
   "file_extension": ".py",
   "mimetype": "text/x-python",
   "name": "python",
   "nbconvert_exporter": "python",
   "pygments_lexer": "ipython3",
   "version": "3.10.12"
  }
 },
 "nbformat": 4,
 "nbformat_minor": 2
}
