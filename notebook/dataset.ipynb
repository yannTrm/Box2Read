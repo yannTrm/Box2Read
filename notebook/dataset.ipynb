{
 "cells": [
  {
   "cell_type": "code",
   "execution_count": 1,
   "metadata": {},
   "outputs": [],
   "source": [
    "import sys\n",
    "sys.path.append(\"../\")"
   ]
  },
  {
   "cell_type": "code",
   "execution_count": 2,
   "metadata": {},
   "outputs": [],
   "source": [
    "from torchvision import transforms"
   ]
  },
  {
   "cell_type": "code",
   "execution_count": 3,
   "metadata": {},
   "outputs": [],
   "source": [
    "from src.dataset.custom_dataset import OdometerDataset"
   ]
  },
  {
   "cell_type": "code",
   "execution_count": null,
   "metadata": {},
   "outputs": [],
   "source": [
    "data_dir = 'your/path'\n",
    "labels_file = 'your/path'\n",
    "\n",
    "\n",
    "\n",
    "transform = transforms.Compose([\n",
    "    transforms.RandomRotation(10),  \n",
    "    transforms.ColorJitter(brightness=0.2, contrast=0.2, saturation=0.2, hue=0.2), \n",
    "    transforms.Grayscale(num_output_channels=1),  \n",
    "    transforms.ToTensor(),\n",
    "    transforms.Normalize(mean=[0.5], std=[0.5])  \n",
    "])\n",
    "\n"
   ]
  },
  {
   "cell_type": "code",
   "execution_count": 5,
   "metadata": {},
   "outputs": [],
   "source": [
    "dataset = OdometerDataset(root_dir=data_dir, split=\"train\", labels_file=labels_file, img_height=32, img_width=100, transform=transform)"
   ]
  },
  {
   "cell_type": "code",
   "execution_count": 6,
   "metadata": {},
   "outputs": [
    {
     "data": {
      "text/plain": [
       "3059"
      ]
     },
     "execution_count": 6,
     "metadata": {},
     "output_type": "execute_result"
    }
   ],
   "source": [
    "len(dataset)"
   ]
  },
  {
   "cell_type": "code",
   "execution_count": 7,
   "metadata": {},
   "outputs": [
    {
     "data": {
      "text/plain": [
       "(tensor([[[-0.9686,  0.2078,  0.1922,  ..., -0.9686, -0.9686, -0.9686],\n",
       "          [-0.9686,  0.2000,  0.1922,  ..., -0.9686, -0.9686, -0.9686],\n",
       "          [-0.9686,  0.2000,  0.1922,  ...,  0.1843,  0.1843,  0.1922],\n",
       "          ...,\n",
       "          [ 0.1529,  0.1765,  0.1765,  ...,  0.2235,  0.2157, -0.9686],\n",
       "          [-0.9686, -0.9686, -0.9686,  ...,  0.2000,  0.2078, -0.9686],\n",
       "          [-0.9686, -0.9686, -0.9686,  ...,  0.1686,  0.1608, -0.9686]]]),\n",
       " tensor([ 1,  8,  9,  7, 10, 10]),\n",
       " tensor([6]))"
      ]
     },
     "execution_count": 7,
     "metadata": {},
     "output_type": "execute_result"
    }
   ],
   "source": [
    "dataset[0]"
   ]
  },
  {
   "cell_type": "code",
   "execution_count": 11,
   "metadata": {},
   "outputs": [
    {
     "data": {
      "image/png": "[encoded data removed]",
      "text/plain": [
       "<Figure size 640x480 with 1 Axes>"
      ]
     },
     "metadata": {},
     "output_type": "display_data"
    }
   ],
   "source": [
    "import matplotlib.pyplot as plt\n",
    "import numpy as np\n",
    "from torchvision.transforms import ToPILImage\n",
    "\n",
    "# Récupérer l'image, le label et la longueur du label pour dataset[0]\n",
    "image_tensor, target_tensor, target_length_tensor = dataset[6]\n",
    "\n",
    "# Inverser la normalisation (pour revenir aux valeurs originales)\n",
    "# Pour un seul canal (grayscale), la moyenne est 0.5 et l'écart-type est 0.5\n",
    "image_tensor = (image_tensor * 0.5) + 0.5  # Inverser la normalisation (de [-1, 1] à [0, 1])\n",
    "\n",
    "# Convertir le tensor en image PIL\n",
    "to_pil = ToPILImage()\n",
    "image_pil = to_pil(image_tensor.squeeze(0))  # Enlever la dimension supplémentaire (channel)\n",
    "\n",
    "# Afficher l'image avec matplotlib\n",
    "plt.imshow(image_pil, cmap='gray')  # 'gray' pour l'affichage en niveaux de gris\n",
    "plt.axis('off')  # Ne pas afficher les axes\n",
    "plt.show()\n"
   ]
  },
  {
   "cell_type": "code",
   "execution_count": null,
   "metadata": {},
   "outputs": [],
   "source": []
  },
  {
   "cell_type": "code",
   "execution_count": null,
   "metadata": {},
   "outputs": [],
   "source": []
  }
 ],
 "metadata": {
  "kernelspec": {
   "display_name": "env-ocr",
   "language": "python",
   "name": "python3"
  },
  "language_info": {
   "codemirror_mode": {
    "name": "ipython",
    "version": 3
   },
   "file_extension": ".py",
   "mimetype": "text/x-python",
   "name": "python",
   "nbconvert_exporter": "python",
   "pygments_lexer": "ipython3",
   "version": "3.10.12"
  }
 },
 "nbformat": 4,
 "nbformat_minor": 2
}
