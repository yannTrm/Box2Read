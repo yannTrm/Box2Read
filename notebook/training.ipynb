{
 "cells": [
  {
   "cell_type": "markdown",
   "metadata": {},
   "source": [
    "# Training file (testing if training works)"
   ]
  },
  {
   "cell_type": "code",
   "execution_count": 1,
   "metadata": {},
   "outputs": [],
   "source": [
    "import sys\n",
    "sys.path.append('../')"
   ]
  },
  {
   "cell_type": "code",
   "execution_count": 2,
   "metadata": {},
   "outputs": [
    {
     "name": "stderr",
     "output_type": "stream",
     "text": [
      "/home/yannou/OneDrive/Documents/3_PRO/Box2Read/env-ocr/lib/python3.10/site-packages/tqdm/auto.py:21: TqdmWarning: IProgress not found. Please update jupyter and ipywidgets. See https://ipywidgets.readthedocs.io/en/stable/user_install.html\n",
      "  from .autonotebook import tqdm as notebook_tqdm\n"
     ]
    }
   ],
   "source": [
    "import torch\n",
    "from torch.utils.data import DataLoader\n",
    "from torchvision import transforms\n",
    "from torch.nn import CTCLoss\n",
    "import torch.optim as optim\n",
    "\n",
    "from src.training.trainer import train_model\n",
    "from src.dataset.custom_dataset import OdometerDataset\n",
    "from src.dataset.base_dataset import base_collate_fn\n",
    "from src.models.crnn import CRNN"
   ]
  },
  {
   "cell_type": "code",
   "execution_count": 3,
   "metadata": {},
   "outputs": [
    {
     "data": {
      "text/plain": [
       "device(type='cuda', index=0)"
      ]
     },
     "execution_count": 3,
     "metadata": {},
     "output_type": "execute_result"
    }
   ],
   "source": [
    "device = torch.device('cuda:0' if torch.cuda.is_available() else 'cpu')\n",
    "device"
   ]
  },
  {
   "cell_type": "code",
   "execution_count": 4,
   "metadata": {},
   "outputs": [],
   "source": [
    "\n",
    "data_dir = '/home/yannou/OneDrive/Documents/3_PRO/carviz/data/ocr/odometer_reader/milestone_box'\n",
    "labels_file = '/home/yannou/OneDrive/Documents/3_PRO/carviz/data/ocr/odometer_reader/milestone_box/milestone_labels.json'\n",
    "\n",
    "# Définir les transformations\n",
    "transform = transforms.Compose([\n",
    "    transforms.RandomRotation(10),\n",
    "    transforms.ColorJitter(brightness=0.2, contrast=0.2, saturation=0.2, hue=0.2),\n",
    "    transforms.Grayscale(num_output_channels=1),\n",
    "    transforms.ToTensor(),\n",
    "    transforms.Normalize(mean=[0.5], std=[0.5])\n",
    "])\n",
    "\n",
    "transform_val = transforms.Compose([\n",
    "    transforms.Grayscale(num_output_channels=1),\n",
    "    transforms.ToTensor(),\n",
    "    transforms.Normalize(mean=[0.5], std=[0.5])\n",
    "])\n",
    "\n",
    "# Initialiser le dataset\n",
    "dataset = OdometerDataset(root_dir=data_dir, split=\"train\", labels_file=labels_file, img_height=32, img_width=100, transform=transform)\n",
    "dataset_val = OdometerDataset(root_dir=data_dir, split=\"val\", labels_file=labels_file, img_height=32, img_width=100, transform=transform_val)\n",
    "\n",
    "\n",
    "# Créer les DataLoaders\n",
    "train_loader = DataLoader(dataset, batch_size=64, shuffle=True, collate_fn=base_collate_fn)\n",
    "valid_loader = DataLoader(dataset_val, batch_size=64, shuffle=False, collate_fn=base_collate_fn)\n",
    "\n"
   ]
  },
  {
   "cell_type": "code",
   "execution_count": 5,
   "metadata": {},
   "outputs": [],
   "source": [
    "# Initialiser le modèle\n",
    "num_class = len(OdometerDataset.LABEL2CHAR) + 1\n",
    "crnn = CRNN(img_channel=1, img_height=32, img_width=100, num_class=num_class, model_size=\"n\", leaky_relu=True).to(device)\n",
    "\n",
    "# Définir les paramètres d'entraînement\n",
    "lr = 0.001\n",
    "epochs = 150\n",
    "decode_method = 'beam_search'\n",
    "beam_size = 10\n",
    "label2char = OdometerDataset.LABEL2CHAR"
   ]
  },
  {
   "cell_type": "code",
   "execution_count": null,
   "metadata": {},
   "outputs": [
    {
     "name": "stdout",
     "output_type": "stream",
     "text": [
      "Working on cuda:0\n"
     ]
    },
    {
     "name": "stderr",
     "output_type": "stream",
     "text": [
      "\u001b[34m\u001b[1mwandb\u001b[0m: Using wandb-core as the SDK backend.  Please refer to https://wandb.me/wandb-core for more information.\n",
      "\u001b[34m\u001b[1mwandb\u001b[0m: Currently logged in as: \u001b[33myann-t\u001b[0m (\u001b[33mcarviz-com\u001b[0m). Use \u001b[1m`wandb login --relogin`\u001b[0m to force relogin\n"
     ]
    },
    {
     "data": {
      "text/html": [
       "Tracking run with wandb version 0.19.0"
      ],
      "text/plain": [
       "<IPython.core.display.HTML object>"
      ]
     },
     "metadata": {},
     "output_type": "display_data"
    },
    {
     "data": {
      "text/html": [
       "Run data is saved locally in <code>/home/yannou/OneDrive/Documents/3_PRO/Box2Read/notebook/wandb/run-20241211_142001-of8fp162</code>"
      ],
      "text/plain": [
       "<IPython.core.display.HTML object>"
      ]
     },
     "metadata": {},
     "output_type": "display_data"
    },
    {
     "data": {
      "text/html": [
       "Syncing run <strong><a href='https://wandb.ai/carviz-com/odometer-reader/runs/of8fp162' target=\"_blank\">crnn-n</a></strong> to <a href='https://wandb.ai/carviz-com/odometer-reader' target=\"_blank\">Weights & Biases</a> (<a href='https://wandb.me/developer-guide' target=\"_blank\">docs</a>)<br/>"
      ],
      "text/plain": [
       "<IPython.core.display.HTML object>"
      ]
     },
     "metadata": {},
     "output_type": "display_data"
    },
    {
     "data": {
      "text/html": [
       " View project at <a href='https://wandb.ai/carviz-com/odometer-reader' target=\"_blank\">https://wandb.ai/carviz-com/odometer-reader</a>"
      ],
      "text/plain": [
       "<IPython.core.display.HTML object>"
      ]
     },
     "metadata": {},
     "output_type": "display_data"
    },
    {
     "data": {
      "text/html": [
       " View run at <a href='https://wandb.ai/carviz-com/odometer-reader/runs/of8fp162' target=\"_blank\">https://wandb.ai/carviz-com/odometer-reader/runs/of8fp162</a>"
      ],
      "text/plain": [
       "<IPython.core.display.HTML object>"
      ]
     },
     "metadata": {},
     "output_type": "display_data"
    },
    {
     "name": "stderr",
     "output_type": "stream",
     "text": [
      "Evaluate: 100%|██████████| 12/12 [00:15<00:00,  1.33s/it]\n",
      "Epochs:   1%|          | 1/150 [01:24<3:29:19, 84.29s/it]"
     ]
    },
    {
     "name": "stdout",
     "output_type": "stream",
     "text": [
      "Epoch 1: train_loss=20.479480619789534, train_accuracy=0.0, val_loss=13.71358294033165, val_accuracy=0.0\n"
     ]
    },
    {
     "name": "stderr",
     "output_type": "stream",
     "text": [
      "Evaluate: 100%|██████████| 12/12 [00:14<00:00,  1.23s/it]\n",
      "Epochs:   1%|▏         | 2/150 [02:44<3:22:19, 82.02s/it]"
     ]
    },
    {
     "name": "stdout",
     "output_type": "stream",
     "text": [
      "Epoch 2: train_loss=13.743552070280534, train_accuracy=0.0, val_loss=13.67098835891664, val_accuracy=0.0\n"
     ]
    },
    {
     "name": "stderr",
     "output_type": "stream",
     "text": [
      "Evaluate: 100%|██████████| 12/12 [00:15<00:00,  1.26s/it]\n",
      "Epochs:   2%|▏         | 3/150 [04:07<3:22:19, 82.58s/it]"
     ]
    },
    {
     "name": "stdout",
     "output_type": "stream",
     "text": [
      "Epoch 3: train_loss=13.697898432705093, train_accuracy=0.0, val_loss=13.55076048054005, val_accuracy=0.0\n"
     ]
    },
    {
     "name": "stderr",
     "output_type": "stream",
     "text": [
      "Evaluate: 100%|██████████| 12/12 [00:14<00:00,  1.17s/it]\n",
      "Epochs:   3%|▎         | 4/150 [05:27<3:18:07, 81.42s/it]"
     ]
    },
    {
     "name": "stdout",
     "output_type": "stream",
     "text": [
      "Epoch 4: train_loss=13.508774298185608, train_accuracy=0.0, val_loss=13.296160721561277, val_accuracy=0.0\n"
     ]
    },
    {
     "name": "stderr",
     "output_type": "stream",
     "text": [
      "Evaluate: 100%|██████████| 12/12 [00:13<00:00,  1.13s/it]\n",
      "Epochs:   3%|▎         | 5/150 [06:44<3:12:46, 79.77s/it]"
     ]
    },
    {
     "name": "stdout",
     "output_type": "stream",
     "text": [
      "Epoch 5: train_loss=13.03648857453841, train_accuracy=0.0, val_loss=12.314655806281577, val_accuracy=0.0\n"
     ]
    },
    {
     "name": "stderr",
     "output_type": "stream",
     "text": [
      "Evaluate: 100%|██████████| 12/12 [00:15<00:00,  1.30s/it]\n",
      "Epochs:   4%|▍         | 6/150 [08:01<3:09:10, 78.82s/it]"
     ]
    },
    {
     "name": "stdout",
     "output_type": "stream",
     "text": [
      "Epoch 6: train_loss=12.222481995128376, train_accuracy=0.0, val_loss=11.00068356191941, val_accuracy=0.0\n"
     ]
    },
    {
     "name": "stderr",
     "output_type": "stream",
     "text": [
      "Evaluate: 100%|██████████| 12/12 [00:12<00:00,  1.06s/it]\n",
      "Epochs:   5%|▍         | 7/150 [09:17<3:05:42, 77.92s/it]"
     ]
    },
    {
     "name": "stdout",
     "output_type": "stream",
     "text": [
      "Epoch 7: train_loss=11.044484909232432, train_accuracy=0.0003273322422258593, val_loss=9.362074950216957, val_accuracy=0.001303780964797914\n"
     ]
    },
    {
     "name": "stderr",
     "output_type": "stream",
     "text": [
      "Evaluate: 100%|██████████| 12/12 [00:15<00:00,  1.25s/it]\n",
      "Epochs:   5%|▌         | 8/150 [10:31<3:01:32, 76.70s/it]"
     ]
    },
    {
     "name": "stdout",
     "output_type": "stream",
     "text": [
      "Epoch 8: train_loss=9.86016490080938, train_accuracy=0.0016366612111292963, val_loss=8.849266559546122, val_accuracy=0.001303780964797914\n"
     ]
    },
    {
     "name": "stderr",
     "output_type": "stream",
     "text": [
      "Evaluate: 100%|██████████| 12/12 [00:12<00:00,  1.04s/it]\n",
      "Epochs:   6%|▌         | 9/150 [11:41<2:55:30, 74.69s/it]"
     ]
    },
    {
     "name": "stdout",
     "output_type": "stream",
     "text": [
      "Epoch 9: train_loss=8.634469839242788, train_accuracy=0.006873977086743044, val_loss=7.420687002806185, val_accuracy=0.03259452411994785\n"
     ]
    },
    {
     "name": "stderr",
     "output_type": "stream",
     "text": [
      "Evaluate: 100%|██████████| 12/12 [00:11<00:00,  1.01it/s]\n",
      "Epochs:   7%|▋         | 10/150 [12:51<2:50:59, 73.28s/it]"
     ]
    },
    {
     "name": "stdout",
     "output_type": "stream",
     "text": [
      "Epoch 10: train_loss=7.440172800416837, train_accuracy=0.040589198036006545, val_loss=5.840028009327636, val_accuracy=0.07692307692307693\n"
     ]
    },
    {
     "name": "stderr",
     "output_type": "stream",
     "text": [
      "Evaluate: 100%|██████████| 12/12 [00:12<00:00,  1.04s/it]\n",
      "Epochs:   7%|▋         | 11/150 [14:06<2:50:22, 73.54s/it]"
     ]
    },
    {
     "name": "stdout",
     "output_type": "stream",
     "text": [
      "Epoch 11: train_loss=6.598538592599223, train_accuracy=0.07823240589198036, val_loss=5.681217357729995, val_accuracy=0.12516297262059975\n"
     ]
    },
    {
     "name": "stderr",
     "output_type": "stream",
     "text": [
      "Evaluate: 100%|██████████| 12/12 [00:12<00:00,  1.02s/it]\n",
      "Epochs:   8%|▊         | 12/150 [15:16<2:46:35, 72.43s/it]"
     ]
    },
    {
     "name": "stdout",
     "output_type": "stream",
     "text": [
      "Epoch 12: train_loss=5.99832642800289, train_accuracy=0.09918166939443535, val_loss=4.66445290218587, val_accuracy=0.1577574967405476\n"
     ]
    },
    {
     "name": "stderr",
     "output_type": "stream",
     "text": [
      "Evaluate: 100%|██████████| 12/12 [00:13<00:00,  1.13s/it]\n",
      "Epochs:   9%|▊         | 13/150 [16:28<2:45:12, 72.36s/it]"
     ]
    },
    {
     "name": "stdout",
     "output_type": "stream",
     "text": [
      "Epoch 13: train_loss=5.582273103055314, train_accuracy=0.12405891980360065, val_loss=4.272183136026117, val_accuracy=0.16297262059973924\n"
     ]
    },
    {
     "name": "stderr",
     "output_type": "stream",
     "text": [
      "Evaluate: 100%|██████████| 12/12 [00:11<00:00,  1.01it/s]\n",
      "Epochs:   9%|▉         | 14/150 [17:36<2:41:16, 71.15s/it]"
     ]
    },
    {
     "name": "stdout",
     "output_type": "stream",
     "text": [
      "Epoch 14: train_loss=5.106616091064852, train_accuracy=0.15286415711947626, val_loss=3.62734368633882, val_accuracy=0.20730117340286833\n"
     ]
    },
    {
     "name": "stderr",
     "output_type": "stream",
     "text": [
      "Evaluate: 100%|██████████| 12/12 [00:12<00:00,  1.01s/it]\n",
      "Epochs:  10%|█         | 15/150 [18:47<2:39:49, 71.04s/it]"
     ]
    },
    {
     "name": "stdout",
     "output_type": "stream",
     "text": [
      "Epoch 15: train_loss=4.681127530112009, train_accuracy=0.16955810147299508, val_loss=3.559797185029946, val_accuracy=0.19165580182529335\n"
     ]
    },
    {
     "name": "stderr",
     "output_type": "stream",
     "text": [
      "Evaluate: 100%|██████████| 12/12 [00:13<00:00,  1.09s/it]\n",
      "Epochs:  11%|█         | 16/150 [20:01<2:40:45, 71.98s/it]"
     ]
    },
    {
     "name": "stdout",
     "output_type": "stream",
     "text": [
      "Epoch 16: train_loss=4.430525339878913, train_accuracy=0.19934533551554828, val_loss=3.2165616071519514, val_accuracy=0.2920469361147327\n"
     ]
    },
    {
     "name": "stderr",
     "output_type": "stream",
     "text": [
      "Evaluate: 100%|██████████| 12/12 [00:12<00:00,  1.04s/it]\n",
      "Epochs:  11%|█▏        | 17/150 [21:12<2:38:50, 71.66s/it]"
     ]
    },
    {
     "name": "stdout",
     "output_type": "stream",
     "text": [
      "Epoch 17: train_loss=4.247061901435915, train_accuracy=0.2199672667757774, val_loss=3.1280026989157226, val_accuracy=0.28552803129074317\n"
     ]
    },
    {
     "name": "stderr",
     "output_type": "stream",
     "text": [
      "Evaluate: 100%|██████████| 12/12 [00:12<00:00,  1.03s/it]\n",
      "Epochs:  12%|█▏        | 18/150 [22:19<2:34:50, 70.38s/it]"
     ]
    },
    {
     "name": "stdout",
     "output_type": "stream",
     "text": [
      "Epoch 18: train_loss=3.9616265579448395, train_accuracy=0.244189852700491, val_loss=2.823403628273458, val_accuracy=0.34810951760104303\n"
     ]
    },
    {
     "name": "stderr",
     "output_type": "stream",
     "text": [
      "Evaluate: 100%|██████████| 12/12 [00:12<00:00,  1.01s/it]\n",
      "Epochs:  13%|█▎        | 19/150 [23:32<2:35:11, 71.08s/it]"
     ]
    },
    {
     "name": "stdout",
     "output_type": "stream",
     "text": [
      "Epoch 19: train_loss=3.7387033515593036, train_accuracy=0.2762684124386252, val_loss=2.7815194061557813, val_accuracy=0.33116036505867014\n"
     ]
    },
    {
     "name": "stderr",
     "output_type": "stream",
     "text": [
      "Evaluate: 100%|██████████| 12/12 [00:12<00:00,  1.07s/it]\n",
      "Epochs:  13%|█▎        | 20/150 [24:42<2:32:57, 70.60s/it]"
     ]
    },
    {
     "name": "stdout",
     "output_type": "stream",
     "text": [
      "Epoch 20: train_loss=3.6311289985519384, train_accuracy=0.3037643207855974, val_loss=2.632285007441992, val_accuracy=0.3963494132985658\n"
     ]
    },
    {
     "name": "stderr",
     "output_type": "stream",
     "text": [
      "Evaluate: 100%|██████████| 12/12 [00:13<00:00,  1.08s/it]\n",
      "Epochs:  14%|█▍        | 21/150 [25:53<2:32:34, 70.97s/it]"
     ]
    },
    {
     "name": "stdout",
     "output_type": "stream",
     "text": [
      "Epoch 21: train_loss=3.4972659446603926, train_accuracy=0.3243862520458265, val_loss=2.3929889087105045, val_accuracy=0.47979139504563234\n"
     ]
    },
    {
     "name": "stderr",
     "output_type": "stream",
     "text": [
      "Evaluate: 100%|██████████| 12/12 [00:11<00:00,  1.09it/s]\n",
      "Epochs:  15%|█▍        | 22/150 [27:02<2:29:53, 70.26s/it]"
     ]
    },
    {
     "name": "stdout",
     "output_type": "stream",
     "text": [
      "Epoch 22: train_loss=3.3084924476236446, train_accuracy=0.36104746317512276, val_loss=2.442063372635624, val_accuracy=0.4589308996088657\n"
     ]
    },
    {
     "name": "stderr",
     "output_type": "stream",
     "text": [
      "Evaluate: 100%|██████████| 12/12 [00:11<00:00,  1.08it/s]\n",
      "Epochs:  15%|█▌        | 23/150 [28:09<2:26:56, 69.42s/it]"
     ]
    },
    {
     "name": "stdout",
     "output_type": "stream",
     "text": [
      "Epoch 23: train_loss=3.196024513556797, train_accuracy=0.3734860883797054, val_loss=2.145493548416874, val_accuracy=0.529335071707953\n"
     ]
    },
    {
     "name": "stderr",
     "output_type": "stream",
     "text": [
      "Evaluate: 100%|██████████| 12/12 [00:14<00:00,  1.25s/it]\n",
      "Epochs:  16%|█▌        | 24/150 [29:22<2:27:30, 70.24s/it]"
     ]
    },
    {
     "name": "stdout",
     "output_type": "stream",
     "text": [
      "Epoch 24: train_loss=3.1418004861635, train_accuracy=0.3941080196399345, val_loss=2.1161487584319234, val_accuracy=0.4941329856584094\n"
     ]
    },
    {
     "name": "stderr",
     "output_type": "stream",
     "text": [
      "Evaluate: 100%|██████████| 12/12 [00:12<00:00,  1.08s/it]\n",
      "Epochs:  17%|█▋        | 25/150 [30:33<2:26:59, 70.56s/it]"
     ]
    },
    {
     "name": "stdout",
     "output_type": "stream",
     "text": [
      "Epoch 25: train_loss=3.095448540470604, train_accuracy=0.3921440261865794, val_loss=2.0909434372007927, val_accuracy=0.5488917861799217\n"
     ]
    },
    {
     "name": "stderr",
     "output_type": "stream",
     "text": [
      "Evaluate: 100%|██████████| 12/12 [00:13<00:00,  1.12s/it]\n",
      "Epochs:  17%|█▋        | 26/150 [31:41<2:24:22, 69.86s/it]"
     ]
    },
    {
     "name": "stdout",
     "output_type": "stream",
     "text": [
      "Epoch 26: train_loss=2.770297870542336, train_accuracy=0.4337152209492635, val_loss=1.9606187464827198, val_accuracy=0.5580182529335072\n"
     ]
    },
    {
     "name": "stderr",
     "output_type": "stream",
     "text": [
      "Evaluate: 100%|██████████| 12/12 [00:12<00:00,  1.04s/it]\n",
      "Epochs:  18%|█▊        | 27/150 [32:54<2:24:53, 70.68s/it]"
     ]
    },
    {
     "name": "stdout",
     "output_type": "stream",
     "text": [
      "Epoch 27: train_loss=2.8076688376269052, train_accuracy=0.4490998363338789, val_loss=2.069707360696606, val_accuracy=0.5671447196870926\n"
     ]
    },
    {
     "name": "stderr",
     "output_type": "stream",
     "text": [
      "Evaluate: 100%|██████████| 12/12 [00:11<00:00,  1.03it/s]\n",
      "Epochs:  19%|█▊        | 28/150 [34:02<2:22:29, 70.08s/it]"
     ]
    },
    {
     "name": "stdout",
     "output_type": "stream",
     "text": [
      "Epoch 28: train_loss=2.756283644256342, train_accuracy=0.4592471358428805, val_loss=2.028891920266282, val_accuracy=0.5528031290743155\n"
     ]
    },
    {
     "name": "stderr",
     "output_type": "stream",
     "text": [
      "Evaluate: 100%|██████████| 12/12 [00:11<00:00,  1.01it/s]\n",
      "Epochs:  19%|█▉        | 29/150 [35:10<2:19:39, 69.25s/it]"
     ]
    },
    {
     "name": "stdout",
     "output_type": "stream",
     "text": [
      "Epoch 29: train_loss=2.652560662052635, train_accuracy=0.47430441898527004, val_loss=2.068082468761459, val_accuracy=0.5801825293350718\n"
     ]
    },
    {
     "name": "stderr",
     "output_type": "stream",
     "text": [
      "Evaluate: 100%|██████████| 12/12 [00:11<00:00,  1.06it/s]\n",
      "Epochs:  20%|██        | 30/150 [36:15<2:16:25, 68.21s/it]"
     ]
    },
    {
     "name": "stdout",
     "output_type": "stream",
     "text": [
      "Epoch 30: train_loss=2.655331473342721, train_accuracy=0.46219312602291324, val_loss=1.721828077731574, val_accuracy=0.6088657105606258\n"
     ]
    },
    {
     "name": "stderr",
     "output_type": "stream",
     "text": [
      "Evaluate: 100%|██████████| 12/12 [00:11<00:00,  1.08it/s]\n",
      "Epochs:  21%|██        | 31/150 [37:22<2:14:32, 67.84s/it]"
     ]
    },
    {
     "name": "stdout",
     "output_type": "stream",
     "text": [
      "Epoch 31: train_loss=2.567592949250716, train_accuracy=0.48641571194762684, val_loss=1.5937553415708778, val_accuracy=0.6492829204693612\n"
     ]
    },
    {
     "name": "stderr",
     "output_type": "stream",
     "text": [
      "Evaluate: 100%|██████████| 12/12 [00:11<00:00,  1.08it/s]\n",
      "Epochs:  21%|██▏       | 32/150 [38:30<2:13:11, 67.73s/it]"
     ]
    },
    {
     "name": "stdout",
     "output_type": "stream",
     "text": [
      "Epoch 32: train_loss=2.4963925001078855, train_accuracy=0.4972176759410802, val_loss=1.6895171940093556, val_accuracy=0.6179921773142112\n"
     ]
    },
    {
     "name": "stderr",
     "output_type": "stream",
     "text": [
      "Evaluate: 100%|██████████| 12/12 [00:11<00:00,  1.02it/s]\n",
      "Epochs:  22%|██▏       | 33/150 [39:34<2:10:04, 66.70s/it]"
     ]
    },
    {
     "name": "stdout",
     "output_type": "stream",
     "text": [
      "Epoch 33: train_loss=2.4471413470329124, train_accuracy=0.5004909983633388, val_loss=1.647402786990965, val_accuracy=0.6284224250325945\n"
     ]
    },
    {
     "name": "stderr",
     "output_type": "stream",
     "text": [
      "Evaluate: 100%|██████████| 12/12 [00:11<00:00,  1.01it/s]\n",
      "Epochs:  23%|██▎       | 34/150 [40:39<2:07:51, 66.14s/it]"
     ]
    },
    {
     "name": "stdout",
     "output_type": "stream",
     "text": [
      "Epoch 34: train_loss=2.367689793863, train_accuracy=0.5168576104746317, val_loss=1.6516468291798658, val_accuracy=0.6153846153846154\n"
     ]
    },
    {
     "name": "stderr",
     "output_type": "stream",
     "text": [
      "Evaluate: 100%|██████████| 12/12 [00:13<00:00,  1.13s/it]\n",
      "Epochs:  23%|██▎       | 35/150 [41:49<2:09:01, 67.32s/it]"
     ]
    },
    {
     "name": "stdout",
     "output_type": "stream",
     "text": [
      "Epoch 35: train_loss=2.357566771062423, train_accuracy=0.5237315875613748, val_loss=1.538521519229496, val_accuracy=0.6414602346805737\n"
     ]
    },
    {
     "name": "stderr",
     "output_type": "stream",
     "text": [
      "Evaluate: 100%|██████████| 12/12 [00:11<00:00,  1.01it/s]\n",
      "Epochs:  24%|██▍       | 36/150 [42:56<2:07:41, 67.20s/it]"
     ]
    },
    {
     "name": "stdout",
     "output_type": "stream",
     "text": [
      "Epoch 36: train_loss=2.2946627652781686, train_accuracy=0.5387888707037644, val_loss=1.7017187344825875, val_accuracy=0.6192959582790091\n"
     ]
    },
    {
     "name": "stderr",
     "output_type": "stream",
     "text": [
      "Evaluate: 100%|██████████| 12/12 [00:12<00:00,  1.02s/it]\n",
      "Epochs:  25%|██▍       | 37/150 [44:04<2:06:43, 67.29s/it]"
     ]
    },
    {
     "name": "stdout",
     "output_type": "stream",
     "text": [
      "Epoch 37: train_loss=2.3567719305010355, train_accuracy=0.5292962356792144, val_loss=1.6178797158610556, val_accuracy=0.6610169491525424\n"
     ]
    },
    {
     "name": "stderr",
     "output_type": "stream",
     "text": [
      "Evaluate: 100%|██████████| 12/12 [00:11<00:00,  1.01it/s]\n",
      "Epochs:  25%|██▌       | 38/150 [45:09<2:04:41, 66.80s/it]"
     ]
    },
    {
     "name": "stdout",
     "output_type": "stream",
     "text": [
      "Epoch 38: train_loss=2.2199863065479235, train_accuracy=0.5328968903436988, val_loss=1.459827880660434, val_accuracy=0.6401564537157758\n"
     ]
    },
    {
     "name": "stderr",
     "output_type": "stream",
     "text": [
      "Evaluate: 100%|██████████| 12/12 [00:11<00:00,  1.02it/s]\n",
      "Epochs:  26%|██▌       | 39/150 [46:15<2:03:07, 66.56s/it]"
     ]
    },
    {
     "name": "stdout",
     "output_type": "stream",
     "text": [
      "Epoch 39: train_loss=2.232785443744566, train_accuracy=0.5322422258592472, val_loss=1.4870029335071708, val_accuracy=0.6479791395045632\n"
     ]
    },
    {
     "name": "stderr",
     "output_type": "stream",
     "text": [
      "Evaluate: 100%|██████████| 12/12 [00:10<00:00,  1.12it/s]\n",
      "Epochs:  27%|██▋       | 40/150 [47:20<2:00:55, 65.96s/it]"
     ]
    },
    {
     "name": "stdout",
     "output_type": "stream",
     "text": [
      "Epoch 40: train_loss=2.1324748811862277, train_accuracy=0.5525368248772504, val_loss=1.5447234013245346, val_accuracy=0.6271186440677966\n"
     ]
    },
    {
     "name": "stderr",
     "output_type": "stream",
     "text": [
      "Evaluate: 100%|██████████| 12/12 [00:10<00:00,  1.10it/s]\n",
      "Epochs:  27%|██▋       | 41/150 [48:21<1:57:14, 64.54s/it]"
     ]
    },
    {
     "name": "stdout",
     "output_type": "stream",
     "text": [
      "Epoch 41: train_loss=2.1224903762242993, train_accuracy=0.5522094926350245, val_loss=1.5150630060665922, val_accuracy=0.6544980443285529\n"
     ]
    },
    {
     "name": "stderr",
     "output_type": "stream",
     "text": [
      "Evaluate: 100%|██████████| 12/12 [00:10<00:00,  1.10it/s]\n",
      "Epochs:  28%|██▊       | 42/150 [49:22<1:54:31, 63.63s/it]"
     ]
    },
    {
     "name": "stdout",
     "output_type": "stream",
     "text": [
      "Epoch 42: train_loss=2.1412468193790914, train_accuracy=0.5689034369885434, val_loss=1.4093844079287454, val_accuracy=0.6597131681877445\n"
     ]
    },
    {
     "name": "stderr",
     "output_type": "stream",
     "text": [
      "Evaluate: 100%|██████████| 12/12 [00:11<00:00,  1.08it/s]\n",
      "Epochs:  29%|██▊       | 43/150 [50:26<1:53:13, 63.49s/it]"
     ]
    },
    {
     "name": "stdout",
     "output_type": "stream",
     "text": [
      "Epoch 43: train_loss=2.044989453204915, train_accuracy=0.5685761047463175, val_loss=1.43690026194984, val_accuracy=0.6636245110821382\n"
     ]
    },
    {
     "name": "stderr",
     "output_type": "stream",
     "text": [
      "Evaluate: 100%|██████████| 12/12 [00:10<00:00,  1.11it/s]\n",
      "Epochs:  29%|██▉       | 44/150 [51:27<1:51:08, 62.91s/it]"
     ]
    },
    {
     "name": "stdout",
     "output_type": "stream",
     "text": [
      "Epoch 44: train_loss=2.041333449842887, train_accuracy=0.574468085106383, val_loss=1.430953581609813, val_accuracy=0.6558018252933507\n"
     ]
    },
    {
     "name": "stderr",
     "output_type": "stream",
     "text": [
      "Evaluate: 100%|██████████| 12/12 [00:10<00:00,  1.09it/s]\n",
      "Epochs:  30%|███       | 45/150 [52:29<1:49:17, 62.46s/it]"
     ]
    },
    {
     "name": "stdout",
     "output_type": "stream",
     "text": [
      "Epoch 45: train_loss=2.005411550768464, train_accuracy=0.5823240589198037, val_loss=1.5458594251331792, val_accuracy=0.6610169491525424\n"
     ]
    },
    {
     "name": "stderr",
     "output_type": "stream",
     "text": [
      "Evaluate: 100%|██████████| 12/12 [00:10<00:00,  1.10it/s]\n",
      "Epochs:  31%|███       | 46/150 [53:30<1:47:57, 62.29s/it]"
     ]
    },
    {
     "name": "stdout",
     "output_type": "stream",
     "text": [
      "Epoch 46: train_loss=1.9971897056567103, train_accuracy=0.5774140752864158, val_loss=1.3418832701840955, val_accuracy=0.6949152542372882\n"
     ]
    },
    {
     "name": "stderr",
     "output_type": "stream",
     "text": [
      "Evaluate: 100%|██████████| 12/12 [00:11<00:00,  1.05it/s]\n",
      "Epochs:  31%|███▏      | 47/150 [54:38<1:49:41, 63.90s/it]"
     ]
    },
    {
     "name": "stdout",
     "output_type": "stream",
     "text": [
      "Epoch 47: train_loss=1.9215254663445556, train_accuracy=0.5934533551554828, val_loss=1.3426698438502664, val_accuracy=0.6897001303780965\n"
     ]
    },
    {
     "name": "stderr",
     "output_type": "stream",
     "text": [
      "Evaluate: 100%|██████████| 12/12 [00:12<00:00,  1.01s/it]\n",
      "Epochs:  32%|███▏      | 48/150 [55:46<1:50:52, 65.22s/it]"
     ]
    },
    {
     "name": "stdout",
     "output_type": "stream",
     "text": [
      "Epoch 48: train_loss=1.9278869204357292, train_accuracy=0.6003273322422259, val_loss=1.3203776830800042, val_accuracy=0.6897001303780965\n"
     ]
    },
    {
     "name": "stderr",
     "output_type": "stream",
     "text": [
      "Evaluate: 100%|██████████| 12/12 [00:11<00:00,  1.04it/s]\n",
      "Epochs:  33%|███▎      | 49/150 [56:54<1:50:58, 65.93s/it]"
     ]
    },
    {
     "name": "stdout",
     "output_type": "stream",
     "text": [
      "Epoch 49: train_loss=1.9256383168521762, train_accuracy=0.5983633387888707, val_loss=1.4013743792239193, val_accuracy=0.6597131681877445\n"
     ]
    },
    {
     "name": "stderr",
     "output_type": "stream",
     "text": [
      "Evaluate: 100%|██████████| 12/12 [00:12<00:00,  1.01s/it]\n",
      "Epochs:  33%|███▎      | 50/150 [58:01<1:50:22, 66.22s/it]"
     ]
    },
    {
     "name": "stdout",
     "output_type": "stream",
     "text": [
      "Epoch 50: train_loss=1.8740412360907772, train_accuracy=0.5980360065466448, val_loss=1.2900974567119892, val_accuracy=0.7079530638852672\n"
     ]
    },
    {
     "name": "stderr",
     "output_type": "stream",
     "text": [
      "Evaluate: 100%|██████████| 12/12 [00:12<00:00,  1.01s/it]\n",
      "Epochs:  34%|███▍      | 51/150 [59:09<1:50:09, 66.76s/it]"
     ]
    },
    {
     "name": "stdout",
     "output_type": "stream",
     "text": [
      "Epoch 51: train_loss=1.8698155779300072, train_accuracy=0.6062193126022913, val_loss=1.2580486929245691, val_accuracy=0.7105606258148631\n"
     ]
    },
    {
     "name": "stderr",
     "output_type": "stream",
     "text": [
      "Evaluate: 100%|██████████| 12/12 [00:12<00:00,  1.05s/it]\n",
      "Epochs:  35%|███▍      | 52/150 [1:00:18<1:50:23, 67.59s/it]"
     ]
    },
    {
     "name": "stdout",
     "output_type": "stream",
     "text": [
      "Epoch 52: train_loss=1.8284869229930123, train_accuracy=0.6062193126022913, val_loss=1.3615165421984496, val_accuracy=0.6962190352020861\n"
     ]
    },
    {
     "name": "stderr",
     "output_type": "stream",
     "text": []
    }
   ],
   "source": [
    "print(f\"Working on {device}\")\n",
    "# Appeler la fonction train_model\n",
    "trained_model = train_model(\n",
    "    model=crnn,\n",
    "    train_loader=train_loader,\n",
    "    valid_loader=valid_loader,\n",
    "    label2char=label2char,\n",
    "    device=device,\n",
    "    lr=lr,\n",
    "    epochs=epochs,\n",
    "    decode_method=decode_method,\n",
    "    beam_size=beam_size,\n",
    "    criterion=CTCLoss(reduction='sum', zero_infinity=True).to(device),\n",
    "    optimizer=optim.Adam(crnn.parameters(), lr=lr),\n",
    "    project_name=\"odometer-reader\",\n",
    "    run_name=\"crnn-n\"\n",
    ")\n",
    "\n"
   ]
  },
  {
   "cell_type": "code",
   "execution_count": null,
   "metadata": {},
   "outputs": [],
   "source": []
  }
 ],
 "metadata": {
  "kernelspec": {
   "display_name": "env-ocr",
   "language": "python",
   "name": "python3"
  },
  "language_info": {
   "codemirror_mode": {
    "name": "ipython",
    "version": 3
   },
   "file_extension": ".py",
   "mimetype": "text/x-python",
   "name": "python",
   "nbconvert_exporter": "python",
   "pygments_lexer": "ipython3",
   "version": "3.10.12"
  }
 },
 "nbformat": 4,
 "nbformat_minor": 2
}
