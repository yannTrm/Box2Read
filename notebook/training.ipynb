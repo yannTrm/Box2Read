{
 "cells": [
  {
   "cell_type": "markdown",
   "metadata": {},
   "source": [
    "# Training file (testing if training works)"
   ]
  },
  {
   "cell_type": "code",
   "execution_count": 1,
   "metadata": {},
   "outputs": [],
   "source": [
    "import sys\n",
    "sys.path.append('../')"
   ]
  },
  {
   "cell_type": "code",
   "execution_count": 2,
   "metadata": {},
   "outputs": [
    {
     "name": "stderr",
     "output_type": "stream",
     "text": [
      "/home/yannou/OneDrive/Documents/3_PRO/Box2Read/env-ocr/lib/python3.10/site-packages/tqdm/auto.py:21: TqdmWarning: IProgress not found. Please update jupyter and ipywidgets. See https://ipywidgets.readthedocs.io/en/stable/user_install.html\n",
      "  from .autonotebook import tqdm as notebook_tqdm\n"
     ]
    }
   ],
   "source": [
    "import torch\n",
    "from torch.utils.data import DataLoader\n",
    "from torchvision import transforms\n",
    "from torch.nn import CTCLoss\n",
    "import torch.optim as optim\n",
    "\n",
    "from src.training.trainer import train_model\n",
    "from src.dataset.custom_dataset import OdometerDataset\n",
    "from src.dataset.base_dataset import base_collate_fn\n",
    "from src.models.crnn import CRNN"
   ]
  },
  {
   "cell_type": "code",
   "execution_count": 3,
   "metadata": {},
   "outputs": [
    {
     "data": {
      "text/plain": [
       "device(type='cuda', index=0)"
      ]
     },
     "execution_count": 3,
     "metadata": {},
     "output_type": "execute_result"
    }
   ],
   "source": [
    "device = torch.device('cuda:0' if torch.cuda.is_available() else 'cpu')\n",
    "device"
   ]
  },
  {
   "cell_type": "code",
   "execution_count": 4,
   "metadata": {},
   "outputs": [],
   "source": [
    "\n",
    "data_dir = '/home/yannou/OneDrive/Documents/3_PRO/carviz/data/ocr/odometer_reader/milestone_box'\n",
    "labels_file = '/home/yannou/OneDrive/Documents/3_PRO/carviz/data/ocr/odometer_reader/milestone_box/milestone_labels.json'\n",
    "\n",
    "# Définir les transformations\n",
    "transform = transforms.Compose([\n",
    "    transforms.RandomRotation(7),\n",
    "    transforms.ColorJitter(brightness=0.2, contrast=0.2, saturation=0.2, hue=0.2),\n",
    "    transforms.Grayscale(num_output_channels=1),\n",
    "    transforms.ToTensor(),\n",
    "    transforms.Normalize(mean=[0.5], std=[0.5])\n",
    "])\n",
    "\n",
    "transform_val = transforms.Compose([\n",
    "    transforms.Grayscale(num_output_channels=1),\n",
    "    transforms.ToTensor(),\n",
    "    transforms.Normalize(mean=[0.5], std=[0.5])\n",
    "])\n",
    "\n",
    "# Initialiser le dataset\n",
    "dataset = OdometerDataset(root_dir=data_dir, split=\"train\", labels_file=labels_file, img_height=32, img_width=100, transform=transform)\n",
    "dataset_val = OdometerDataset(root_dir=data_dir, split=\"val\", labels_file=labels_file, img_height=32, img_width=100, transform=transform_val)\n",
    "\n",
    "\n",
    "# Créer les DataLoaders\n",
    "train_loader = DataLoader(dataset, batch_size=64, shuffle=True, collate_fn=base_collate_fn)\n",
    "valid_loader = DataLoader(dataset_val, batch_size=64, shuffle=False, collate_fn=base_collate_fn)\n",
    "\n"
   ]
  },
  {
   "cell_type": "code",
   "execution_count": 5,
   "metadata": {},
   "outputs": [],
   "source": [
    "# Initialiser le modèle\n",
    "num_class = len(OdometerDataset.LABEL2CHAR) + 1\n",
    "crnn = CRNN(img_channel=1, img_height=32, img_width=100, num_class=num_class, model_size=\"n\", leaky_relu=True).to(device)\n",
    "\n",
    "# Définir les paramètres d'entraînement\n",
    "lr = 0.001\n",
    "epochs = 15\n",
    "decode_method = 'beam_search'\n",
    "beam_size = 10\n",
    "label2char = OdometerDataset.LABEL2CHAR"
   ]
  },
  {
   "cell_type": "code",
   "execution_count": 6,
   "metadata": {},
   "outputs": [
    {
     "name": "stdout",
     "output_type": "stream",
     "text": [
      "Working on cuda:0\n"
     ]
    },
    {
     "name": "stderr",
     "output_type": "stream",
     "text": [
      "\u001b[34m\u001b[1mwandb\u001b[0m: Using wandb-core as the SDK backend.  Please refer to https://wandb.me/wandb-core for more information.\n",
      "\u001b[34m\u001b[1mwandb\u001b[0m: Currently logged in as: \u001b[33myann-t\u001b[0m (\u001b[33mcarviz-com\u001b[0m). Use \u001b[1m`wandb login --relogin`\u001b[0m to force relogin\n"
     ]
    },
    {
     "data": {
      "text/html": [
       "Tracking run with wandb version 0.19.0"
      ],
      "text/plain": [
       "<IPython.core.display.HTML object>"
      ]
     },
     "metadata": {},
     "output_type": "display_data"
    },
    {
     "data": {
      "text/html": [
       "Run data is saved locally in <code>/home/yannou/OneDrive/Documents/3_PRO/Box2Read/notebook/wandb/run-20241211_230150-6m381mgu</code>"
      ],
      "text/plain": [
       "<IPython.core.display.HTML object>"
      ]
     },
     "metadata": {},
     "output_type": "display_data"
    },
    {
     "data": {
      "text/html": [
       "Syncing run <strong><a href='https://wandb.ai/carviz-com/odometer-reader/runs/6m381mgu' target=\"_blank\">crnn-n</a></strong> to <a href='https://wandb.ai/carviz-com/odometer-reader' target=\"_blank\">Weights & Biases</a> (<a href='https://wandb.me/developer-guide' target=\"_blank\">docs</a>)<br/>"
      ],
      "text/plain": [
       "<IPython.core.display.HTML object>"
      ]
     },
     "metadata": {},
     "output_type": "display_data"
    },
    {
     "data": {
      "text/html": [
       " View project at <a href='https://wandb.ai/carviz-com/odometer-reader' target=\"_blank\">https://wandb.ai/carviz-com/odometer-reader</a>"
      ],
      "text/plain": [
       "<IPython.core.display.HTML object>"
      ]
     },
     "metadata": {},
     "output_type": "display_data"
    },
    {
     "data": {
      "text/html": [
       " View run at <a href='https://wandb.ai/carviz-com/odometer-reader/runs/6m381mgu' target=\"_blank\">https://wandb.ai/carviz-com/odometer-reader/runs/6m381mgu</a>"
      ],
      "text/plain": [
       "<IPython.core.display.HTML object>"
      ]
     },
     "metadata": {},
     "output_type": "display_data"
    },
    {
     "name": "stderr",
     "output_type": "stream",
     "text": [
      "Evaluate: 100%|██████████| 12/12 [00:14<00:00,  1.21s/it]\n",
      "Epochs:   7%|▋         | 1/15 [01:25<20:02, 85.87s/it]"
     ]
    },
    {
     "name": "stdout",
     "output_type": "stream",
     "text": [
      "Epoch 1: train_loss=20.262676032982558, train_accuracy=0.0, val_loss=13.68884794590837, val_accuracy=0.0, train_word_accuracy=0.0, train_char_accuracy=0.0022771838825985198, train_average_levenshtein_distance=5.179705400981997val_word_accuracy=0.0, val_char_accuracy=0.0, val_average_levenshtein_distance=5.160365058670143\n"
     ]
    },
    {
     "name": "stderr",
     "output_type": "stream",
     "text": [
      "Evaluate: 100%|██████████| 12/12 [00:14<00:00,  1.22s/it]\n",
      "Epochs:  13%|█▎        | 2/15 [02:48<18:08, 83.74s/it]"
     ]
    },
    {
     "name": "stdout",
     "output_type": "stream",
     "text": [
      "Epoch 2: train_loss=13.732456258471, train_accuracy=0.0, val_loss=13.683236929086538, val_accuracy=0.0, train_word_accuracy=0.0, train_char_accuracy=0.0, train_average_levenshtein_distance=5.174795417348609val_word_accuracy=0.0, val_char_accuracy=0.0, val_average_levenshtein_distance=5.160365058670143\n"
     ]
    },
    {
     "name": "stderr",
     "output_type": "stream",
     "text": [
      "Evaluate: 100%|██████████| 12/12 [00:13<00:00,  1.11s/it]\n",
      "Epochs:  20%|██        | 3/15 [04:09<16:33, 82.83s/it]"
     ]
    },
    {
     "name": "stdout",
     "output_type": "stream",
     "text": [
      "Epoch 3: train_loss=13.721676930429112, train_accuracy=0.0, val_loss=13.62155425906026, val_accuracy=0.0, train_word_accuracy=0.0, train_char_accuracy=0.0, train_average_levenshtein_distance=5.174795417348609val_word_accuracy=0.0, val_char_accuracy=0.0, val_average_levenshtein_distance=5.160365058670143\n"
     ]
    },
    {
     "name": "stderr",
     "output_type": "stream",
     "text": [
      "Evaluate: 100%|██████████| 12/12 [00:14<00:00,  1.22s/it]\n",
      "Epochs:  27%|██▋       | 4/15 [05:30<15:02, 82.08s/it]"
     ]
    },
    {
     "name": "stdout",
     "output_type": "stream",
     "text": [
      "Epoch 4: train_loss=13.490687873203509, train_accuracy=0.0, val_loss=13.575992907507946, val_accuracy=0.0, train_word_accuracy=0.0, train_char_accuracy=0.0, train_average_levenshtein_distance=5.174795417348609val_word_accuracy=0.0, val_char_accuracy=0.0, val_average_levenshtein_distance=5.160365058670143\n"
     ]
    },
    {
     "name": "stderr",
     "output_type": "stream",
     "text": [
      "Evaluate: 100%|██████████| 12/12 [00:16<00:00,  1.39s/it]\n",
      "Epochs:  33%|███▎      | 5/15 [06:57<13:58, 83.89s/it]"
     ]
    },
    {
     "name": "stdout",
     "output_type": "stream",
     "text": [
      "Epoch 5: train_loss=12.91983936266111, train_accuracy=0.0, val_loss=12.19790486282289, val_accuracy=0.0, train_word_accuracy=0.0, train_char_accuracy=0.0, train_average_levenshtein_distance=5.174795417348609val_word_accuracy=0.0, val_char_accuracy=0.0, val_average_levenshtein_distance=5.160365058670143\n"
     ]
    },
    {
     "name": "stderr",
     "output_type": "stream",
     "text": [
      "Evaluate: 100%|██████████| 12/12 [00:15<00:00,  1.28s/it]\n",
      "Epochs:  40%|████      | 6/15 [08:22<12:36, 84.09s/it]"
     ]
    },
    {
     "name": "stdout",
     "output_type": "stream",
     "text": [
      "Epoch 6: train_loss=11.737698728870448, train_accuracy=0.0, val_loss=10.483139973109518, val_accuracy=0.0, train_word_accuracy=0.0, train_char_accuracy=0.011891960275792271, train_average_levenshtein_distance=4.912929623567922val_word_accuracy=0.0, val_char_accuracy=0.028044466902475997, val_average_levenshtein_distance=4.482398956975228\n"
     ]
    },
    {
     "name": "stderr",
     "output_type": "stream",
     "text": [
      "Evaluate: 100%|██████████| 12/12 [00:12<00:00,  1.07s/it]\n",
      "Epochs:  47%|████▋     | 7/15 [09:39<10:54, 81.83s/it]"
     ]
    },
    {
     "name": "stdout",
     "output_type": "stream",
     "text": [
      "Epoch 7: train_loss=10.268529374392646, train_accuracy=0.0009819967266775777, val_loss=10.1262409951261, val_accuracy=0.0, train_word_accuracy=0.0009819967266775777, train_char_accuracy=0.049528749446517806, train_average_levenshtein_distance=4.183960720130933val_word_accuracy=0.0, val_char_accuracy=0.07099545224861041, val_average_levenshtein_distance=3.9204693611473274\n"
     ]
    },
    {
     "name": "stderr",
     "output_type": "stream",
     "text": [
      "Evaluate: 100%|██████████| 12/12 [00:13<00:00,  1.12s/it]\n",
      "Epochs:  53%|█████▎    | 8/15 [10:57<09:23, 80.56s/it]"
     ]
    },
    {
     "name": "stdout",
     "output_type": "stream",
     "text": [
      "Epoch 8: train_loss=8.704149421654435, train_accuracy=0.002618657937806874, val_loss=7.550092794127384, val_accuracy=0.01303780964797914, train_word_accuracy=0.002618657937806874, train_char_accuracy=0.10487696881523183, train_average_levenshtein_distance=3.5090016366612113val_word_accuracy=0.01303780964797914, val_char_accuracy=0.17710965133906012, val_average_levenshtein_distance=2.864406779661017\n"
     ]
    },
    {
     "name": "stderr",
     "output_type": "stream",
     "text": [
      "Evaluate: 100%|██████████| 12/12 [00:13<00:00,  1.14s/it]\n",
      "Epochs:  60%|██████    | 9/15 [12:12<07:54, 79.01s/it]"
     ]
    },
    {
     "name": "stdout",
     "output_type": "stream",
     "text": [
      "Epoch 9: train_loss=7.641033565939546, train_accuracy=0.024549918166939442, val_loss=6.793735190818021, val_accuracy=0.018252933507170794, train_word_accuracy=0.024549918166939442, train_char_accuracy=0.18502119046112975, train_average_levenshtein_distance=2.915875613747954val_word_accuracy=0.018252933507170794, val_char_accuracy=0.18367862556846892, val_average_levenshtein_distance=2.7770534550195567\n"
     ]
    },
    {
     "name": "stderr",
     "output_type": "stream",
     "text": [
      "Evaluate: 100%|██████████| 12/12 [00:15<00:00,  1.30s/it]\n",
      "Epochs:  67%|██████▋   | 10/15 [13:27<06:28, 77.65s/it]"
     ]
    },
    {
     "name": "stdout",
     "output_type": "stream",
     "text": [
      "Epoch 10: train_loss=6.61514170345425, train_accuracy=0.07266775777414075, val_loss=5.574555438065311, val_accuracy=0.11603650586701435, train_word_accuracy=0.07266775777414075, train_char_accuracy=0.2986273641596559, train_average_levenshtein_distance=2.4448445171849427val_word_accuracy=0.11603650586701435, val_char_accuracy=0.4120768064679131, val_average_levenshtein_distance=1.9661016949152543\n"
     ]
    },
    {
     "name": "stderr",
     "output_type": "stream",
     "text": [
      "Evaluate: 100%|██████████| 12/12 [00:12<00:00,  1.03s/it]\n",
      "Epochs:  73%|███████▎  | 11/15 [14:37<05:00, 75.15s/it]"
     ]
    },
    {
     "name": "stdout",
     "output_type": "stream",
     "text": [
      "Epoch 11: train_loss=5.944090518233429, train_accuracy=0.12274959083469722, val_loss=5.769139733743481, val_accuracy=0.16297262059973924, train_word_accuracy=0.12274959083469722, train_char_accuracy=0.39964577139604024, train_average_levenshtein_distance=2.0808510638297872val_word_accuracy=0.16297262059973924, val_char_accuracy=0.494188984335523, val_average_levenshtein_distance=1.8904823989569752\n"
     ]
    },
    {
     "name": "stderr",
     "output_type": "stream",
     "text": [
      "Evaluate: 100%|██████████| 12/12 [00:11<00:00,  1.01it/s]\n",
      "Epochs:  80%|████████  | 12/15 [15:45<03:38, 73.00s/it]"
     ]
    },
    {
     "name": "stdout",
     "output_type": "stream",
     "text": [
      "Epoch 12: train_loss=5.523321872842292, train_accuracy=0.1574468085106383, val_loss=4.262143290493603, val_accuracy=0.24771838331160365, train_word_accuracy=0.1574468085106383, train_char_accuracy=0.4524005313429059, train_average_levenshtein_distance=1.9099836333878888val_word_accuracy=0.24771838331160365, val_char_accuracy=0.5654370894391106, val_average_levenshtein_distance=1.4485006518904824\n"
     ]
    },
    {
     "name": "stderr",
     "output_type": "stream",
     "text": [
      "Evaluate: 100%|██████████| 12/12 [00:11<00:00,  1.08it/s]\n",
      "Epochs:  87%|████████▋ | 13/15 [16:53<02:22, 71.49s/it]"
     ]
    },
    {
     "name": "stdout",
     "output_type": "stream",
     "text": [
      "Epoch 13: train_loss=4.969340882246701, train_accuracy=0.20654664484451718, val_loss=3.8975808791417963, val_accuracy=0.2842242503259452, train_word_accuracy=0.20654664484451718, train_char_accuracy=0.4913024226706307, train_average_levenshtein_distance=1.7083469721767595val_word_accuracy=0.2842242503259452, val_char_accuracy=0.5639211723092471, val_average_levenshtein_distance=1.4211212516297262\n"
     ]
    },
    {
     "name": "stderr",
     "output_type": "stream",
     "text": [
      "Evaluate: 100%|██████████| 12/12 [00:11<00:00,  1.01it/s]\n",
      "Epochs:  93%|█████████▎| 14/15 [18:00<01:10, 70.36s/it]"
     ]
    },
    {
     "name": "stdout",
     "output_type": "stream",
     "text": [
      "Epoch 14: train_loss=4.645981064716845, train_accuracy=0.2500818330605565, val_loss=3.8914755929402296, val_accuracy=0.3076923076923077, train_word_accuracy=0.2500818330605565, train_char_accuracy=0.5426023151369473, train_average_levenshtein_distance=1.5590834697217677val_word_accuracy=0.3076923076923077, val_char_accuracy=0.6336533602829711, val_average_levenshtein_distance=1.2985658409387224\n"
     ]
    },
    {
     "name": "stderr",
     "output_type": "stream",
     "text": [
      "Evaluate: 100%|██████████| 12/12 [00:12<00:00,  1.04s/it]\n",
      "Epochs: 100%|██████████| 15/15 [19:08<00:00, 76.56s/it]"
     ]
    },
    {
     "name": "stdout",
     "output_type": "stream",
     "text": [
      "Epoch 15: train_loss=4.29250313966442, train_accuracy=0.27430441898527, val_loss=3.3745337813276666, val_accuracy=0.3898305084745763, train_word_accuracy=0.27430441898527, train_char_accuracy=0.5774558795622746, train_average_levenshtein_distance=1.448772504091653val_word_accuracy=0.3898305084745763, val_char_accuracy=0.6526023244062658, val_average_levenshtein_distance=1.1225554106910038\n"
     ]
    },
    {
     "name": "stderr",
     "output_type": "stream",
     "text": [
      "\n"
     ]
    },
    {
     "data": {
      "text/html": [
       "\n",
       "    <style>\n",
       "        .wandb-row {\n",
       "            display: flex;\n",
       "            flex-direction: row;\n",
       "            flex-wrap: wrap;\n",
       "            justify-content: flex-start;\n",
       "            width: 100%;\n",
       "        }\n",
       "        .wandb-col {\n",
       "            display: flex;\n",
       "            flex-direction: column;\n",
       "            flex-basis: 100%;\n",
       "            flex: 1;\n",
       "            padding: 10px;\n",
       "        }\n",
       "    </style>\n",
       "<div class=\"wandb-row\"><div class=\"wandb-col\"><h3>Run history:</h3><br/><table class=\"wandb\"><tr><td>epoch</td><td>▁▁▂▃▃▃▄▅▅▅▆▇▇▇█</td></tr><tr><td>train/average_levenshtein_distance</td><td>█████▇▆▅▄▃▂▂▁▁▁</td></tr><tr><td>train/char_accuracy</td><td>▁▁▁▁▁▁▂▂▃▅▆▆▇██</td></tr><tr><td>train/train_loss</td><td>█▅▅▅▅▄▄▃▂▂▂▂▁▁▁</td></tr><tr><td>train/word_accuracy</td><td>▁▁▁▁▁▁▁▁▂▃▄▅▆▇█</td></tr><tr><td>val/average_levenshtein_distance</td><td>█████▇▆▄▄▂▂▂▂▁▁</td></tr><tr><td>val/char_accuracy</td><td>▁▁▁▁▁▁▂▃▃▅▆▇▇██</td></tr><tr><td>val/val_loss</td><td>████▇▆▆▄▃▂▃▂▁▁▁</td></tr><tr><td>val/word_accuracy</td><td>▁▁▁▁▁▁▁▁▁▃▄▅▆▇█</td></tr></table><br/></div><div class=\"wandb-col\"><h3>Run summary:</h3><br/><table class=\"wandb\"><tr><td>epoch</td><td>15</td></tr><tr><td>train/average_levenshtein_distance</td><td>1.44877</td></tr><tr><td>train/char_accuracy</td><td>0.57746</td></tr><tr><td>train/train_loss</td><td>4.2925</td></tr><tr><td>train/word_accuracy</td><td>0.2743</td></tr><tr><td>val/average_levenshtein_distance</td><td>1.12256</td></tr><tr><td>val/char_accuracy</td><td>0.6526</td></tr><tr><td>val/val_loss</td><td>3.37453</td></tr><tr><td>val/word_accuracy</td><td>0.38983</td></tr></table><br/></div></div>"
      ],
      "text/plain": [
       "<IPython.core.display.HTML object>"
      ]
     },
     "metadata": {},
     "output_type": "display_data"
    },
    {
     "data": {
      "text/html": [
       " View run <strong style=\"color:#cdcd00\">crnn-n</strong> at: <a href='https://wandb.ai/carviz-com/odometer-reader/runs/6m381mgu' target=\"_blank\">https://wandb.ai/carviz-com/odometer-reader/runs/6m381mgu</a><br/> View project at: <a href='https://wandb.ai/carviz-com/odometer-reader' target=\"_blank\">https://wandb.ai/carviz-com/odometer-reader</a><br/>Synced 5 W&B file(s), 0 media file(s), 48 artifact file(s) and 10354 other file(s)"
      ],
      "text/plain": [
       "<IPython.core.display.HTML object>"
      ]
     },
     "metadata": {},
     "output_type": "display_data"
    },
    {
     "data": {
      "text/html": [
       "Find logs at: <code>./wandb/run-20241211_230150-6m381mgu/logs</code>"
      ],
      "text/plain": [
       "<IPython.core.display.HTML object>"
      ]
     },
     "metadata": {},
     "output_type": "display_data"
    }
   ],
   "source": [
    "print(f\"Working on {device}\")\n",
    "# Appeler la fonction train_model\n",
    "trained_model = train_model(\n",
    "    model=crnn,\n",
    "    train_loader=train_loader,\n",
    "    valid_loader=valid_loader,\n",
    "    label2char=label2char,\n",
    "    device=device,\n",
    "    lr=lr,\n",
    "    epochs=epochs,\n",
    "    decode_method=decode_method,\n",
    "    beam_size=beam_size,\n",
    "    criterion=CTCLoss(reduction='sum', zero_infinity=True).to(device),\n",
    "    optimizer=optim.Adam(crnn.parameters(), lr=lr),\n",
    "    project_name=\"odometer-reader\",\n",
    "    run_name=\"crnn-n\", \n",
    "    checkpoint=2\n",
    ")\n",
    "\n"
   ]
  },
  {
   "cell_type": "code",
   "execution_count": null,
   "metadata": {},
   "outputs": [],
   "source": []
  }
 ],
 "metadata": {
  "kernelspec": {
   "display_name": "env-ocr",
   "language": "python",
   "name": "python3"
  },
  "language_info": {
   "codemirror_mode": {
    "name": "ipython",
    "version": 3
   },
   "file_extension": ".py",
   "mimetype": "text/x-python",
   "name": "python",
   "nbconvert_exporter": "python",
   "pygments_lexer": "ipython3",
   "version": "3.10.12"
  }
 },
 "nbformat": 4,
 "nbformat_minor": 2
}
